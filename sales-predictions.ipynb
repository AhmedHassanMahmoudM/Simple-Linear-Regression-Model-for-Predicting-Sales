{
 "cells": [
  {
   "cell_type": "code",
   "execution_count": 1,
   "id": "660f8639",
   "metadata": {
    "_cell_guid": "b1076dfc-b9ad-4769-8c92-a6c4dae69d19",
    "_uuid": "8f2839f25d086af736a60e9eeb907d3b93b6e0e5",
    "execution": {
     "iopub.execute_input": "2024-08-14T08:39:35.357039Z",
     "iopub.status.busy": "2024-08-14T08:39:35.356571Z",
     "iopub.status.idle": "2024-08-14T08:39:36.197513Z",
     "shell.execute_reply": "2024-08-14T08:39:36.196071Z"
    },
    "papermill": {
     "duration": 0.858361,
     "end_time": "2024-08-14T08:39:36.200310",
     "exception": false,
     "start_time": "2024-08-14T08:39:35.341949",
     "status": "completed"
    },
    "tags": []
   },
   "outputs": [
    {
     "name": "stdout",
     "output_type": "stream",
     "text": [
      "/kaggle/input/advertising-sales-dataset/Advertising Budget and Sales.csv\n"
     ]
    }
   ],
   "source": [
    "# This Python 3 environment comes with many helpful analytics libraries installed\n",
    "# It is defined by the kaggle/python Docker image: https://github.com/kaggle/docker-python\n",
    "# For example, here's several helpful packages to load\n",
    "\n",
    "import numpy as np # linear algebra\n",
    "import pandas as pd # data processing, CSV file I/O (e.g. pd.read_csv)\n",
    "\n",
    "# Input data files are available in the read-only \"../input/\" directory\n",
    "# For example, running this (by clicking run or pressing Shift+Enter) will list all files under the input directory\n",
    "\n",
    "import os\n",
    "for dirname, _, filenames in os.walk('/kaggle/input/advertising-sales-dataset'):\n",
    "    for filename in filenames:\n",
    "        print(os.path.join(dirname, filename))\n",
    "\n",
    "# You can write up to 20GB to the current directory (/kaggle/working/) that gets preserved as output when you create a version using \"Save & Run All\" \n",
    "# You can also write temporary files to /kaggle/temp/, but they won't be saved outside of the current session"
   ]
  },
  {
   "cell_type": "markdown",
   "id": "37cf1035",
   "metadata": {
    "papermill": {
     "duration": 0.01238,
     "end_time": "2024-08-14T08:39:36.225509",
     "exception": false,
     "start_time": "2024-08-14T08:39:36.213129",
     "status": "completed"
    },
    "tags": []
   },
   "source": [
    "# Importing The Libraries "
   ]
  },
  {
   "cell_type": "code",
   "execution_count": 2,
   "id": "44425355",
   "metadata": {
    "execution": {
     "iopub.execute_input": "2024-08-14T08:39:36.251847Z",
     "iopub.status.busy": "2024-08-14T08:39:36.251388Z",
     "iopub.status.idle": "2024-08-14T08:39:37.577020Z",
     "shell.execute_reply": "2024-08-14T08:39:37.575673Z"
    },
    "papermill": {
     "duration": 1.341858,
     "end_time": "2024-08-14T08:39:37.579746",
     "exception": false,
     "start_time": "2024-08-14T08:39:36.237888",
     "status": "completed"
    },
    "tags": []
   },
   "outputs": [],
   "source": [
    "import matplotlib.pyplot as plt\n",
    "import seaborn as sns"
   ]
  },
  {
   "cell_type": "markdown",
   "id": "2893da5d",
   "metadata": {
    "papermill": {
     "duration": 0.012953,
     "end_time": "2024-08-14T08:39:37.605088",
     "exception": false,
     "start_time": "2024-08-14T08:39:37.592135",
     "status": "completed"
    },
    "tags": []
   },
   "source": [
    "**Read The Dataset**"
   ]
  },
  {
   "cell_type": "code",
   "execution_count": 3,
   "id": "6444aa0c",
   "metadata": {
    "execution": {
     "iopub.execute_input": "2024-08-14T08:39:37.631856Z",
     "iopub.status.busy": "2024-08-14T08:39:37.630928Z",
     "iopub.status.idle": "2024-08-14T08:39:37.648538Z",
     "shell.execute_reply": "2024-08-14T08:39:37.647595Z"
    },
    "papermill": {
     "duration": 0.033997,
     "end_time": "2024-08-14T08:39:37.651374",
     "exception": false,
     "start_time": "2024-08-14T08:39:37.617377",
     "status": "completed"
    },
    "tags": []
   },
   "outputs": [],
   "source": [
    "file_path = r\"/kaggle/input/advertising-sales-dataset/Advertising Budget and Sales.csv\"\n",
    "df = pd.read_csv(file_path)"
   ]
  },
  {
   "cell_type": "markdown",
   "id": "74b60188",
   "metadata": {
    "papermill": {
     "duration": 0.01223,
     "end_time": "2024-08-14T08:39:37.677125",
     "exception": false,
     "start_time": "2024-08-14T08:39:37.664895",
     "status": "completed"
    },
    "tags": []
   },
   "source": [
    "# Data Pre_Processing"
   ]
  },
  {
   "cell_type": "code",
   "execution_count": 4,
   "id": "1501b315",
   "metadata": {
    "execution": {
     "iopub.execute_input": "2024-08-14T08:39:37.704487Z",
     "iopub.status.busy": "2024-08-14T08:39:37.704106Z",
     "iopub.status.idle": "2024-08-14T08:39:37.711771Z",
     "shell.execute_reply": "2024-08-14T08:39:37.710727Z"
    },
    "papermill": {
     "duration": 0.024236,
     "end_time": "2024-08-14T08:39:37.713939",
     "exception": false,
     "start_time": "2024-08-14T08:39:37.689703",
     "status": "completed"
    },
    "tags": []
   },
   "outputs": [
    {
     "data": {
      "text/plain": [
       "(200, 5)"
      ]
     },
     "execution_count": 4,
     "metadata": {},
     "output_type": "execute_result"
    }
   ],
   "source": [
    "df.shape"
   ]
  },
  {
   "cell_type": "code",
   "execution_count": 5,
   "id": "1fb7dc94",
   "metadata": {
    "execution": {
     "iopub.execute_input": "2024-08-14T08:39:37.741666Z",
     "iopub.status.busy": "2024-08-14T08:39:37.741269Z",
     "iopub.status.idle": "2024-08-14T08:39:37.766207Z",
     "shell.execute_reply": "2024-08-14T08:39:37.765055Z"
    },
    "papermill": {
     "duration": 0.041929,
     "end_time": "2024-08-14T08:39:37.768785",
     "exception": false,
     "start_time": "2024-08-14T08:39:37.726856",
     "status": "completed"
    },
    "tags": []
   },
   "outputs": [
    {
     "data": {
      "text/html": [
       "<div>\n",
       "<style scoped>\n",
       "    .dataframe tbody tr th:only-of-type {\n",
       "        vertical-align: middle;\n",
       "    }\n",
       "\n",
       "    .dataframe tbody tr th {\n",
       "        vertical-align: top;\n",
       "    }\n",
       "\n",
       "    .dataframe thead th {\n",
       "        text-align: right;\n",
       "    }\n",
       "</style>\n",
       "<table border=\"1\" class=\"dataframe\">\n",
       "  <thead>\n",
       "    <tr style=\"text-align: right;\">\n",
       "      <th></th>\n",
       "      <th>Unnamed: 0</th>\n",
       "      <th>TV Ad Budget ($)</th>\n",
       "      <th>Radio Ad Budget ($)</th>\n",
       "      <th>Newspaper Ad Budget ($)</th>\n",
       "      <th>Sales ($)</th>\n",
       "    </tr>\n",
       "  </thead>\n",
       "  <tbody>\n",
       "    <tr>\n",
       "      <th>0</th>\n",
       "      <td>1</td>\n",
       "      <td>230.1</td>\n",
       "      <td>37.8</td>\n",
       "      <td>69.2</td>\n",
       "      <td>22.1</td>\n",
       "    </tr>\n",
       "    <tr>\n",
       "      <th>1</th>\n",
       "      <td>2</td>\n",
       "      <td>44.5</td>\n",
       "      <td>39.3</td>\n",
       "      <td>45.1</td>\n",
       "      <td>10.4</td>\n",
       "    </tr>\n",
       "    <tr>\n",
       "      <th>2</th>\n",
       "      <td>3</td>\n",
       "      <td>17.2</td>\n",
       "      <td>45.9</td>\n",
       "      <td>69.3</td>\n",
       "      <td>9.3</td>\n",
       "    </tr>\n",
       "    <tr>\n",
       "      <th>3</th>\n",
       "      <td>4</td>\n",
       "      <td>151.5</td>\n",
       "      <td>41.3</td>\n",
       "      <td>58.5</td>\n",
       "      <td>18.5</td>\n",
       "    </tr>\n",
       "    <tr>\n",
       "      <th>4</th>\n",
       "      <td>5</td>\n",
       "      <td>180.8</td>\n",
       "      <td>10.8</td>\n",
       "      <td>58.4</td>\n",
       "      <td>12.9</td>\n",
       "    </tr>\n",
       "  </tbody>\n",
       "</table>\n",
       "</div>"
      ],
      "text/plain": [
       "   Unnamed: 0  TV Ad Budget ($)  Radio Ad Budget ($)  Newspaper Ad Budget ($)  \\\n",
       "0           1             230.1                 37.8                     69.2   \n",
       "1           2              44.5                 39.3                     45.1   \n",
       "2           3              17.2                 45.9                     69.3   \n",
       "3           4             151.5                 41.3                     58.5   \n",
       "4           5             180.8                 10.8                     58.4   \n",
       "\n",
       "   Sales ($)  \n",
       "0       22.1  \n",
       "1       10.4  \n",
       "2        9.3  \n",
       "3       18.5  \n",
       "4       12.9  "
      ]
     },
     "execution_count": 5,
     "metadata": {},
     "output_type": "execute_result"
    }
   ],
   "source": [
    "df.head()"
   ]
  },
  {
   "cell_type": "code",
   "execution_count": 6,
   "id": "b3228802",
   "metadata": {
    "execution": {
     "iopub.execute_input": "2024-08-14T08:39:37.797125Z",
     "iopub.status.busy": "2024-08-14T08:39:37.796737Z",
     "iopub.status.idle": "2024-08-14T08:39:37.802842Z",
     "shell.execute_reply": "2024-08-14T08:39:37.801712Z"
    },
    "papermill": {
     "duration": 0.023613,
     "end_time": "2024-08-14T08:39:37.805254",
     "exception": false,
     "start_time": "2024-08-14T08:39:37.781641",
     "status": "completed"
    },
    "tags": []
   },
   "outputs": [],
   "source": [
    "df.rename(columns={'Unnamed: 0':'Id','TV Ad Budget ($)':'TV','Radio Ad Budget ($)':'Radio','Newspaper Ad Budget ($)':'Newspaper','Sales ($)':'Sales'} , inplace = True)"
   ]
  },
  {
   "cell_type": "code",
   "execution_count": 7,
   "id": "c5e46fe5",
   "metadata": {
    "execution": {
     "iopub.execute_input": "2024-08-14T08:39:37.832129Z",
     "iopub.status.busy": "2024-08-14T08:39:37.831758Z",
     "iopub.status.idle": "2024-08-14T08:39:37.841324Z",
     "shell.execute_reply": "2024-08-14T08:39:37.839893Z"
    },
    "papermill": {
     "duration": 0.025719,
     "end_time": "2024-08-14T08:39:37.843656",
     "exception": false,
     "start_time": "2024-08-14T08:39:37.817937",
     "status": "completed"
    },
    "tags": []
   },
   "outputs": [],
   "source": [
    "df.drop(columns=['Id'] , inplace = True)"
   ]
  },
  {
   "cell_type": "markdown",
   "id": "6546c186",
   "metadata": {
    "papermill": {
     "duration": 0.012794,
     "end_time": "2024-08-14T08:39:37.869293",
     "exception": false,
     "start_time": "2024-08-14T08:39:37.856499",
     "status": "completed"
    },
    "tags": []
   },
   "source": []
  },
  {
   "cell_type": "code",
   "execution_count": 8,
   "id": "a32607f8",
   "metadata": {
    "execution": {
     "iopub.execute_input": "2024-08-14T08:39:37.895875Z",
     "iopub.status.busy": "2024-08-14T08:39:37.895508Z",
     "iopub.status.idle": "2024-08-14T08:39:37.916991Z",
     "shell.execute_reply": "2024-08-14T08:39:37.915629Z"
    },
    "papermill": {
     "duration": 0.037427,
     "end_time": "2024-08-14T08:39:37.919321",
     "exception": false,
     "start_time": "2024-08-14T08:39:37.881894",
     "status": "completed"
    },
    "tags": []
   },
   "outputs": [
    {
     "name": "stdout",
     "output_type": "stream",
     "text": [
      "<class 'pandas.core.frame.DataFrame'>\n",
      "RangeIndex: 200 entries, 0 to 199\n",
      "Data columns (total 4 columns):\n",
      " #   Column     Non-Null Count  Dtype  \n",
      "---  ------     --------------  -----  \n",
      " 0   TV         200 non-null    float64\n",
      " 1   Radio      200 non-null    float64\n",
      " 2   Newspaper  200 non-null    float64\n",
      " 3   Sales      200 non-null    float64\n",
      "dtypes: float64(4)\n",
      "memory usage: 6.4 KB\n"
     ]
    }
   ],
   "source": [
    "df.info()"
   ]
  },
  {
   "cell_type": "markdown",
   "id": "e2631041",
   "metadata": {
    "papermill": {
     "duration": 0.012464,
     "end_time": "2024-08-14T08:39:37.944513",
     "exception": false,
     "start_time": "2024-08-14T08:39:37.932049",
     "status": "completed"
    },
    "tags": []
   },
   "source": [
    "**Checking For Missing Values**"
   ]
  },
  {
   "cell_type": "code",
   "execution_count": 9,
   "id": "963b2fd7",
   "metadata": {
    "execution": {
     "iopub.execute_input": "2024-08-14T08:39:37.971330Z",
     "iopub.status.busy": "2024-08-14T08:39:37.970924Z",
     "iopub.status.idle": "2024-08-14T08:39:37.979723Z",
     "shell.execute_reply": "2024-08-14T08:39:37.978667Z"
    },
    "papermill": {
     "duration": 0.024873,
     "end_time": "2024-08-14T08:39:37.982062",
     "exception": false,
     "start_time": "2024-08-14T08:39:37.957189",
     "status": "completed"
    },
    "tags": []
   },
   "outputs": [
    {
     "data": {
      "text/plain": [
       "TV           0\n",
       "Radio        0\n",
       "Newspaper    0\n",
       "Sales        0\n",
       "dtype: int64"
      ]
     },
     "execution_count": 9,
     "metadata": {},
     "output_type": "execute_result"
    }
   ],
   "source": [
    "df.isna().sum()"
   ]
  },
  {
   "cell_type": "markdown",
   "id": "851fa1e4",
   "metadata": {
    "papermill": {
     "duration": 0.012515,
     "end_time": "2024-08-14T08:39:38.007712",
     "exception": false,
     "start_time": "2024-08-14T08:39:37.995197",
     "status": "completed"
    },
    "tags": []
   },
   "source": [
    "the dataset doesn't have missing values"
   ]
  },
  {
   "cell_type": "markdown",
   "id": "174ec0bd",
   "metadata": {
    "papermill": {
     "duration": 0.012458,
     "end_time": "2024-08-14T08:39:38.033009",
     "exception": false,
     "start_time": "2024-08-14T08:39:38.020551",
     "status": "completed"
    },
    "tags": []
   },
   "source": [
    "**Checking For Duplicate Values**"
   ]
  },
  {
   "cell_type": "code",
   "execution_count": 10,
   "id": "144184cf",
   "metadata": {
    "execution": {
     "iopub.execute_input": "2024-08-14T08:39:38.060520Z",
     "iopub.status.busy": "2024-08-14T08:39:38.059690Z",
     "iopub.status.idle": "2024-08-14T08:39:38.068864Z",
     "shell.execute_reply": "2024-08-14T08:39:38.067795Z"
    },
    "papermill": {
     "duration": 0.025247,
     "end_time": "2024-08-14T08:39:38.070989",
     "exception": false,
     "start_time": "2024-08-14T08:39:38.045742",
     "status": "completed"
    },
    "tags": []
   },
   "outputs": [
    {
     "data": {
      "text/plain": [
       "0      False\n",
       "1      False\n",
       "2      False\n",
       "3      False\n",
       "4      False\n",
       "       ...  \n",
       "195    False\n",
       "196    False\n",
       "197    False\n",
       "198    False\n",
       "199    False\n",
       "Length: 200, dtype: bool"
      ]
     },
     "execution_count": 10,
     "metadata": {},
     "output_type": "execute_result"
    }
   ],
   "source": [
    "df.duplicated()"
   ]
  },
  {
   "cell_type": "markdown",
   "id": "9f1a6a78",
   "metadata": {
    "papermill": {
     "duration": 0.012585,
     "end_time": "2024-08-14T08:39:38.096495",
     "exception": false,
     "start_time": "2024-08-14T08:39:38.083910",
     "status": "completed"
    },
    "tags": []
   },
   "source": [
    "There is no duplicate rows in the dataset"
   ]
  },
  {
   "cell_type": "markdown",
   "id": "dc3b849b",
   "metadata": {
    "papermill": {
     "duration": 0.012608,
     "end_time": "2024-08-14T08:39:38.122018",
     "exception": false,
     "start_time": "2024-08-14T08:39:38.109410",
     "status": "completed"
    },
    "tags": []
   },
   "source": [
    "**Checking For Outliers**"
   ]
  },
  {
   "cell_type": "code",
   "execution_count": 11,
   "id": "1f203ac3",
   "metadata": {
    "execution": {
     "iopub.execute_input": "2024-08-14T08:39:38.149617Z",
     "iopub.status.busy": "2024-08-14T08:39:38.149234Z",
     "iopub.status.idle": "2024-08-14T08:39:38.603029Z",
     "shell.execute_reply": "2024-08-14T08:39:38.601908Z"
    },
    "papermill": {
     "duration": 0.470523,
     "end_time": "2024-08-14T08:39:38.605638",
     "exception": false,
     "start_time": "2024-08-14T08:39:38.135115",
     "status": "completed"
    },
    "tags": []
   },
   "outputs": [
    {
     "data": {
      "image/png": "[encoded data removed]",
      "text/plain": [
       "<Figure size 500x500 with 3 Axes>"
      ]
     },
     "metadata": {},
     "output_type": "display_data"
    }
   ],
   "source": [
    "fig , axs = plt.subplots(3 , figsize = (5,5))\n",
    "plt1 = sns.boxplot(df['TV'] , ax=axs[0])\n",
    "plt2 = sns.boxplot(df['Newspaper'] , ax = axs[1])\n",
    "plt3 = sns.boxplot(df['Radio'] , ax = axs[2])\n",
    "plt.tight_layout()"
   ]
  },
  {
   "cell_type": "markdown",
   "id": "890ef266",
   "metadata": {
    "papermill": {
     "duration": 0.013086,
     "end_time": "2024-08-14T08:39:38.632511",
     "exception": false,
     "start_time": "2024-08-14T08:39:38.619425",
     "status": "completed"
    },
    "tags": []
   },
   "source": [
    "There are not extreme values in dataset"
   ]
  },
  {
   "cell_type": "markdown",
   "id": "220c0c41",
   "metadata": {
    "papermill": {
     "duration": 0.013392,
     "end_time": "2024-08-14T08:39:38.659265",
     "exception": false,
     "start_time": "2024-08-14T08:39:38.645873",
     "status": "completed"
    },
    "tags": []
   },
   "source": [
    "# Exploratory Data Analysis (EDA) "
   ]
  },
  {
   "cell_type": "markdown",
   "id": "e023b53f",
   "metadata": {
    "papermill": {
     "duration": 0.013187,
     "end_time": "2024-08-14T08:39:38.742919",
     "exception": false,
     "start_time": "2024-08-14T08:39:38.729732",
     "status": "completed"
    },
    "tags": []
   },
   "source": [
    "**Distribution of the target**"
   ]
  },
  {
   "cell_type": "code",
   "execution_count": 12,
   "id": "93199fa2",
   "metadata": {
    "execution": {
     "iopub.execute_input": "2024-08-14T08:39:38.772112Z",
     "iopub.status.busy": "2024-08-14T08:39:38.771705Z",
     "iopub.status.idle": "2024-08-14T08:39:39.066139Z",
     "shell.execute_reply": "2024-08-14T08:39:39.065111Z"
    },
    "papermill": {
     "duration": 0.311737,
     "end_time": "2024-08-14T08:39:39.068630",
     "exception": false,
     "start_time": "2024-08-14T08:39:38.756893",
     "status": "completed"
    },
    "tags": []
   },
   "outputs": [
    {
     "name": "stderr",
     "output_type": "stream",
     "text": [
      "/tmp/ipykernel_18/3969413547.py:1: UserWarning: \n",
      "\n",
      "`distplot` is a deprecated function and will be removed in seaborn v0.14.0.\n",
      "\n",
      "Please adapt your code to use either `displot` (a figure-level function with\n",
      "similar flexibility) or `histplot` (an axes-level function for histograms).\n",
      "\n",
      "For a guide to updating your code to use the new functions, please see\n",
      "https://gist.github.com/mwaskom/de44147ed2974457ad6372750bbe5751\n",
      "\n",
      "  sns.distplot(df['Sales'] ,color='m')\n",
      "/opt/conda/lib/python3.10/site-packages/seaborn/_oldcore.py:1119: FutureWarning: use_inf_as_na option is deprecated and will be removed in a future version. Convert inf values to NaN before operating instead.\n",
      "  with pd.option_context('mode.use_inf_as_na', True):\n"
     ]
    },
    {
     "data": {
      "text/plain": [
       "<Axes: xlabel='Sales', ylabel='Density'>"
      ]
     },
     "execution_count": 12,
     "metadata": {},
     "output_type": "execute_result"
    },
    {
     "data": {
      "image/png": "[encoded data removed]",
      "text/plain": [
       "<Figure size 640x480 with 1 Axes>"
      ]
     },
     "metadata": {},
     "output_type": "display_data"
    }
   ],
   "source": [
    "sns.distplot(df['Sales'] ,color='m')"
   ]
  },
  {
   "cell_type": "markdown",
   "id": "c863c7c7",
   "metadata": {
    "papermill": {
     "duration": 0.013836,
     "end_time": "2024-08-14T08:39:39.096691",
     "exception": false,
     "start_time": "2024-08-14T08:39:39.082855",
     "status": "completed"
    },
    "tags": []
   },
   "source": [
    "It Is Normally Distributed"
   ]
  },
  {
   "cell_type": "markdown",
   "id": "6e0f605e",
   "metadata": {
    "papermill": {
     "duration": 0.013935,
     "end_time": "2024-08-14T08:39:39.124887",
     "exception": false,
     "start_time": "2024-08-14T08:39:39.110952",
     "status": "completed"
    },
    "tags": []
   },
   "source": [
    "**How Seles are related with other variable**"
   ]
  },
  {
   "cell_type": "code",
   "execution_count": 13,
   "id": "5dc4d1b9",
   "metadata": {
    "execution": {
     "iopub.execute_input": "2024-08-14T08:39:39.154826Z",
     "iopub.status.busy": "2024-08-14T08:39:39.154463Z",
     "iopub.status.idle": "2024-08-14T08:39:39.943633Z",
     "shell.execute_reply": "2024-08-14T08:39:39.942529Z"
    },
    "papermill": {
     "duration": 0.806992,
     "end_time": "2024-08-14T08:39:39.946078",
     "exception": false,
     "start_time": "2024-08-14T08:39:39.139086",
     "status": "completed"
    },
    "tags": []
   },
   "outputs": [
    {
     "data": {
      "text/plain": [
       "<seaborn.axisgrid.PairGrid at 0x7c4a4580aad0>"
      ]
     },
     "execution_count": 13,
     "metadata": {},
     "output_type": "execute_result"
    },
    {
     "data": {
      "image/png": "[encoded data removed]",
      "text/plain": [
       "<Figure size 1200x400 with 3 Axes>"
      ]
     },
     "metadata": {},
     "output_type": "display_data"
    }
   ],
   "source": [
    "sns.pairplot(df , x_vars = ['TV','Newspaper','Radio'] , y_vars = 'Sales' , height=4 , aspect=1 , kind = 'scatter' )"
   ]
  },
  {
   "cell_type": "markdown",
   "id": "9edee7e1",
   "metadata": {
    "papermill": {
     "duration": 0.015029,
     "end_time": "2024-08-14T08:39:39.976265",
     "exception": false,
     "start_time": "2024-08-14T08:39:39.961236",
     "status": "completed"
    },
    "tags": []
   },
   "source": [
    "Note -> TV is strongly linealy correlated with the target variable \n",
    "but the Newspaper and Radio seems to be uncorrected "
   ]
  },
  {
   "cell_type": "markdown",
   "id": "7290304f",
   "metadata": {
    "papermill": {
     "duration": 0.014997,
     "end_time": "2024-08-14T08:39:40.006515",
     "exception": false,
     "start_time": "2024-08-14T08:39:39.991518",
     "status": "completed"
    },
    "tags": []
   },
   "source": [
    "**Heatmap🔥**"
   ]
  },
  {
   "cell_type": "code",
   "execution_count": 14,
   "id": "9e2221ec",
   "metadata": {
    "execution": {
     "iopub.execute_input": "2024-08-14T08:39:40.038871Z",
     "iopub.status.busy": "2024-08-14T08:39:40.038472Z",
     "iopub.status.idle": "2024-08-14T08:39:40.326140Z",
     "shell.execute_reply": "2024-08-14T08:39:40.325035Z"
    },
    "papermill": {
     "duration": 0.306971,
     "end_time": "2024-08-14T08:39:40.328676",
     "exception": false,
     "start_time": "2024-08-14T08:39:40.021705",
     "status": "completed"
    },
    "tags": []
   },
   "outputs": [
    {
     "data": {
      "image/png": "[encoded data removed]",
      "text/plain": [
       "<Figure size 640x480 with 2 Axes>"
      ]
     },
     "metadata": {},
     "output_type": "display_data"
    }
   ],
   "source": [
    "sns.heatmap(df.corr() , annot = True)\n",
    "plt.show()"
   ]
  },
  {
   "cell_type": "markdown",
   "id": "87ee3ab5",
   "metadata": {
    "papermill": {
     "duration": 0.016019,
     "end_time": "2024-08-14T08:39:40.360639",
     "exception": false,
     "start_time": "2024-08-14T08:39:40.344620",
     "status": "completed"
    },
    "tags": []
   },
   "source": [
    "TV seems to be most correlated with Salas as 0.78 close to one"
   ]
  },
  {
   "cell_type": "markdown",
   "id": "4acb0e4b",
   "metadata": {
    "papermill": {
     "duration": 0.015344,
     "end_time": "2024-08-14T08:39:40.391862",
     "exception": false,
     "start_time": "2024-08-14T08:39:40.376518",
     "status": "completed"
    },
    "tags": []
   },
   "source": [
    "# Model Building 🏢 "
   ]
  },
  {
   "cell_type": "markdown",
   "id": "5e3a3dc1",
   "metadata": {
    "papermill": {
     "duration": 0.015443,
     "end_time": "2024-08-14T08:39:40.423178",
     "exception": false,
     "start_time": "2024-08-14T08:39:40.407735",
     "status": "completed"
    },
    "tags": []
   },
   "source": [
    "**Linear Regression is useful tool for predicting a quantitive response**\n",
    ">   predictions using\n",
    "*     1-Simple Linear Regression\n",
    "*     2-Multiple Linear Regression"
   ]
  },
  {
   "cell_type": "markdown",
   "id": "646e6883",
   "metadata": {
    "papermill": {
     "duration": 0.015529,
     "end_time": "2024-08-14T08:39:40.455060",
     "exception": false,
     "start_time": "2024-08-14T08:39:40.439531",
     "status": "completed"
    },
    "tags": []
   },
   "source": [
    "1. Simple Linear Regression\n",
    "\n",
    "Simple Linear Regression is a method used to predict the value of one variable (the dependent or target variable) based on the value of another variable (the independent or predictor variable). It establishes this relationship using a straight line.\n",
    "\n",
    "**Key Points:**\n",
    "* Single Predictor: Only one independent variable (X) and one dependent variable (Y) are involved.\n",
    "* Straight Line Relationship: The model tries to find the best-fitting line that represents the relationship between X and Y.\n",
    "* Goal: The line is determined by calculating the slope (β1) and intercept (β0) that minimize the prediction errors (e).\n",
    "**Formula:**\n",
    "> Y=β0+β1X+e\n",
    "**Where:**\n",
    "* Y: Dependent variable (what you want to predict)\n",
    "* X: Independent variable (what you use to make the prediction)\n",
    "* β0: Intercept (the value of Y when X is 0)   \n",
    "* β1: Slope (indicates the direction and steepness of the line)\n",
    "* e: Error term (the difference between actual and predicted values)\n",
    "**Example Equation:**\n",
    "> *Sales=β0+β1×TV*"
   ]
  },
  {
   "cell_type": "code",
   "execution_count": 15,
   "id": "ebf771fa",
   "metadata": {
    "execution": {
     "iopub.execute_input": "2024-08-14T08:39:40.489238Z",
     "iopub.status.busy": "2024-08-14T08:39:40.488518Z",
     "iopub.status.idle": "2024-08-14T08:39:40.863998Z",
     "shell.execute_reply": "2024-08-14T08:39:40.862556Z"
    },
    "papermill": {
     "duration": 0.395838,
     "end_time": "2024-08-14T08:39:40.866778",
     "exception": false,
     "start_time": "2024-08-14T08:39:40.470940",
     "status": "completed"
    },
    "tags": []
   },
   "outputs": [],
   "source": [
    "from sklearn.model_selection import train_test_split\n",
    "from sklearn.linear_model import LinearRegression\n",
    "from sklearn import metrics"
   ]
  },
  {
   "cell_type": "code",
   "execution_count": 16,
   "id": "b67b3d09",
   "metadata": {
    "execution": {
     "iopub.execute_input": "2024-08-14T08:39:40.902223Z",
     "iopub.status.busy": "2024-08-14T08:39:40.900993Z",
     "iopub.status.idle": "2024-08-14T08:39:40.908046Z",
     "shell.execute_reply": "2024-08-14T08:39:40.906911Z"
    },
    "papermill": {
     "duration": 0.027424,
     "end_time": "2024-08-14T08:39:40.910261",
     "exception": false,
     "start_time": "2024-08-14T08:39:40.882837",
     "status": "completed"
    },
    "tags": []
   },
   "outputs": [],
   "source": [
    "#set values in x , y\n",
    "x = df[['TV']]\n",
    "y = df['Sales']\n"
   ]
  },
  {
   "cell_type": "code",
   "execution_count": 17,
   "id": "5863a339",
   "metadata": {
    "execution": {
     "iopub.execute_input": "2024-08-14T08:39:40.943848Z",
     "iopub.status.busy": "2024-08-14T08:39:40.943474Z",
     "iopub.status.idle": "2024-08-14T08:39:40.952772Z",
     "shell.execute_reply": "2024-08-14T08:39:40.951575Z"
    },
    "papermill": {
     "duration": 0.028725,
     "end_time": "2024-08-14T08:39:40.955038",
     "exception": false,
     "start_time": "2024-08-14T08:39:40.926313",
     "status": "completed"
    },
    "tags": []
   },
   "outputs": [],
   "source": [
    "x_train, x_test, y_train, y_test = train_test_split(x, y, test_size = 0.3, random_state = 100)"
   ]
  },
  {
   "cell_type": "code",
   "execution_count": 18,
   "id": "86113225",
   "metadata": {
    "execution": {
     "iopub.execute_input": "2024-08-14T08:39:40.989295Z",
     "iopub.status.busy": "2024-08-14T08:39:40.988898Z",
     "iopub.status.idle": "2024-08-14T08:39:41.008723Z",
     "shell.execute_reply": "2024-08-14T08:39:41.007741Z"
    },
    "papermill": {
     "duration": 0.039805,
     "end_time": "2024-08-14T08:39:41.011006",
     "exception": false,
     "start_time": "2024-08-14T08:39:40.971201",
     "status": "completed"
    },
    "tags": []
   },
   "outputs": [
    {
     "data": {
      "text/html": [
       "<style>#sk-container-id-1 {color: black;background-color: white;}#sk-container-id-1 pre{padding: 0;}#sk-container-id-1 div.sk-toggleable {background-color: white;}#sk-container-id-1 label.sk-toggleable__label {cursor: pointer;display: block;width: 100%;margin-bottom: 0;padding: 0.3em;box-sizing: border-box;text-align: center;}#sk-container-id-1 label.sk-toggleable__label-arrow:before {content: \"▸\";float: left;margin-right: 0.25em;color: #696969;}#sk-container-id-1 label.sk-toggleable__label-arrow:hover:before {color: black;}#sk-container-id-1 div.sk-estimator:hover label.sk-toggleable__label-arrow:before {color: black;}#sk-container-id-1 div.sk-toggleable__content {max-height: 0;max-width: 0;overflow: hidden;text-align: left;background-color: #f0f8ff;}#sk-container-id-1 div.sk-toggleable__content pre {margin: 0.2em;color: black;border-radius: 0.25em;background-color: #f0f8ff;}#sk-container-id-1 input.sk-toggleable__control:checked~div.sk-toggleable__content {max-height: 200px;max-width: 100%;overflow: auto;}#sk-container-id-1 input.sk-toggleable__control:checked~label.sk-toggleable__label-arrow:before {content: \"▾\";}#sk-container-id-1 div.sk-estimator input.sk-toggleable__control:checked~label.sk-toggleable__label {background-color: #d4ebff;}#sk-container-id-1 div.sk-label input.sk-toggleable__control:checked~label.sk-toggleable__label {background-color: #d4ebff;}#sk-container-id-1 input.sk-hidden--visually {border: 0;clip: rect(1px 1px 1px 1px);clip: rect(1px, 1px, 1px, 1px);height: 1px;margin: -1px;overflow: hidden;padding: 0;position: absolute;width: 1px;}#sk-container-id-1 div.sk-estimator {font-family: monospace;background-color: #f0f8ff;border: 1px dotted black;border-radius: 0.25em;box-sizing: border-box;margin-bottom: 0.5em;}#sk-container-id-1 div.sk-estimator:hover {background-color: #d4ebff;}#sk-container-id-1 div.sk-parallel-item::after {content: \"\";width: 100%;border-bottom: 1px solid gray;flex-grow: 1;}#sk-container-id-1 div.sk-label:hover label.sk-toggleable__label {background-color: #d4ebff;}#sk-container-id-1 div.sk-serial::before {content: \"\";position: absolute;border-left: 1px solid gray;box-sizing: border-box;top: 0;bottom: 0;left: 50%;z-index: 0;}#sk-container-id-1 div.sk-serial {display: flex;flex-direction: column;align-items: center;background-color: white;padding-right: 0.2em;padding-left: 0.2em;position: relative;}#sk-container-id-1 div.sk-item {position: relative;z-index: 1;}#sk-container-id-1 div.sk-parallel {display: flex;align-items: stretch;justify-content: center;background-color: white;position: relative;}#sk-container-id-1 div.sk-item::before, #sk-container-id-1 div.sk-parallel-item::before {content: \"\";position: absolute;border-left: 1px solid gray;box-sizing: border-box;top: 0;bottom: 0;left: 50%;z-index: -1;}#sk-container-id-1 div.sk-parallel-item {display: flex;flex-direction: column;z-index: 1;position: relative;background-color: white;}#sk-container-id-1 div.sk-parallel-item:first-child::after {align-self: flex-end;width: 50%;}#sk-container-id-1 div.sk-parallel-item:last-child::after {align-self: flex-start;width: 50%;}#sk-container-id-1 div.sk-parallel-item:only-child::after {width: 0;}#sk-container-id-1 div.sk-dashed-wrapped {border: 1px dashed gray;margin: 0 0.4em 0.5em 0.4em;box-sizing: border-box;padding-bottom: 0.4em;background-color: white;}#sk-container-id-1 div.sk-label label {font-family: monospace;font-weight: bold;display: inline-block;line-height: 1.2em;}#sk-container-id-1 div.sk-label-container {text-align: center;}#sk-container-id-1 div.sk-container {/* jupyter's `normalize.less` sets `[hidden] { display: none; }` but bootstrap.min.css set `[hidden] { display: none !important; }` so we also need the `!important` here to be able to override the default hidden behavior on the sphinx rendered scikit-learn.org. See: https://github.com/scikit-learn/scikit-learn/issues/21755 */display: inline-block !important;position: relative;}#sk-container-id-1 div.sk-text-repr-fallback {display: none;}</style><div id=\"sk-container-id-1\" class=\"sk-top-container\"><div class=\"sk-text-repr-fallback\"><pre>LinearRegression()</pre><b>In a Jupyter environment, please rerun this cell to show the HTML representation or trust the notebook. <br />On GitHub, the HTML representation is unable to render, please try loading this page with nbviewer.org.</b></div><div class=\"sk-container\" hidden><div class=\"sk-item\"><div class=\"sk-estimator sk-toggleable\"><input class=\"sk-toggleable__control sk-hidden--visually\" id=\"sk-estimator-id-1\" type=\"checkbox\" checked><label for=\"sk-estimator-id-1\" class=\"sk-toggleable__label sk-toggleable__label-arrow\">LinearRegression</label><div class=\"sk-toggleable__content\"><pre>LinearRegression()</pre></div></div></div></div></div>"
      ],
      "text/plain": [
       "LinearRegression()"
      ]
     },
     "execution_count": 18,
     "metadata": {},
     "output_type": "execute_result"
    }
   ],
   "source": [
    "# fit the model \n",
    "# take an instance from object\n",
    "slr = LinearRegression()\n",
    "slr.fit(x_train , y_train)"
   ]
  },
  {
   "cell_type": "code",
   "execution_count": 19,
   "id": "6ca7728b",
   "metadata": {
    "execution": {
     "iopub.execute_input": "2024-08-14T08:39:41.044948Z",
     "iopub.status.busy": "2024-08-14T08:39:41.044555Z",
     "iopub.status.idle": "2024-08-14T08:39:41.050352Z",
     "shell.execute_reply": "2024-08-14T08:39:41.049215Z"
    },
    "papermill": {
     "duration": 0.025918,
     "end_time": "2024-08-14T08:39:41.053124",
     "exception": false,
     "start_time": "2024-08-14T08:39:41.027206",
     "status": "completed"
    },
    "tags": []
   },
   "outputs": [
    {
     "name": "stdout",
     "output_type": "stream",
     "text": [
      "Intercept:  6.98966585741168\n",
      "Coefficient:  [0.04649736]\n"
     ]
    }
   ],
   "source": [
    "# print the coefficient and intercept of the model\n",
    "print(\"Intercept: \" , slr.intercept_)\n",
    "print(\"Coefficient: \" , slr.coef_)"
   ]
  },
  {
   "cell_type": "code",
   "execution_count": 20,
   "id": "9cd77fc1",
   "metadata": {
    "execution": {
     "iopub.execute_input": "2024-08-14T08:39:41.087738Z",
     "iopub.status.busy": "2024-08-14T08:39:41.087342Z",
     "iopub.status.idle": "2024-08-14T08:39:41.092900Z",
     "shell.execute_reply": "2024-08-14T08:39:41.091864Z"
    },
    "papermill": {
     "duration": 0.026007,
     "end_time": "2024-08-14T08:39:41.095360",
     "exception": false,
     "start_time": "2024-08-14T08:39:41.069353",
     "status": "completed"
    },
    "tags": []
   },
   "outputs": [
    {
     "name": "stdout",
     "output_type": "stream",
     "text": [
      "Regression Equation: Sales = 6.989 + 0.046 * TV\n"
     ]
    }
   ],
   "source": [
    "print('Regression Equation: Sales = 6.989 + 0.046 * TV')"
   ]
  },
  {
   "cell_type": "code",
   "execution_count": 21,
   "id": "92fc9955",
   "metadata": {
    "execution": {
     "iopub.execute_input": "2024-08-14T08:39:41.129496Z",
     "iopub.status.busy": "2024-08-14T08:39:41.129094Z",
     "iopub.status.idle": "2024-08-14T08:39:41.305079Z",
     "shell.execute_reply": "2024-08-14T08:39:41.303906Z"
    },
    "papermill": {
     "duration": 0.195996,
     "end_time": "2024-08-14T08:39:41.307489",
     "exception": false,
     "start_time": "2024-08-14T08:39:41.111493",
     "status": "completed"
    },
    "tags": []
   },
   "outputs": [
    {
     "data": {
      "image/png": "[encoded data removed]",
      "text/plain": [
       "<Figure size 640x480 with 1 Axes>"
      ]
     },
     "metadata": {},
     "output_type": "display_data"
    }
   ],
   "source": [
    "# line the best fit\n",
    "plt.scatter(x_train , y_train)\n",
    "plt.plot(x_train , 6.989+0.046*x_train , 'r')\n",
    "plt.show()"
   ]
  },
  {
   "cell_type": "code",
   "execution_count": 22,
   "id": "97f73e9b",
   "metadata": {
    "execution": {
     "iopub.execute_input": "2024-08-14T08:39:41.342812Z",
     "iopub.status.busy": "2024-08-14T08:39:41.342422Z",
     "iopub.status.idle": "2024-08-14T08:39:41.350624Z",
     "shell.execute_reply": "2024-08-14T08:39:41.349414Z"
    },
    "papermill": {
     "duration": 0.028576,
     "end_time": "2024-08-14T08:39:41.352854",
     "exception": false,
     "start_time": "2024-08-14T08:39:41.324278",
     "status": "completed"
    },
    "tags": []
   },
   "outputs": [],
   "source": [
    "#Prediction of Test and Training set result \n",
    "y_pred_slr= slr.predict(x_test)  \n",
    "x_pred_slr= slr.predict(x_train) "
   ]
  },
  {
   "cell_type": "code",
   "execution_count": 23,
   "id": "1e9fa8f5",
   "metadata": {
    "execution": {
     "iopub.execute_input": "2024-08-14T08:39:41.389015Z",
     "iopub.status.busy": "2024-08-14T08:39:41.388613Z",
     "iopub.status.idle": "2024-08-14T08:39:41.394956Z",
     "shell.execute_reply": "2024-08-14T08:39:41.393766Z"
    },
    "papermill": {
     "duration": 0.027142,
     "end_time": "2024-08-14T08:39:41.397483",
     "exception": false,
     "start_time": "2024-08-14T08:39:41.370341",
     "status": "completed"
    },
    "tags": []
   },
   "outputs": [
    {
     "name": "stdout",
     "output_type": "stream",
     "text": [
      "Prediction for test set: [ 7.35234526 18.06533671 13.27610876 17.11214086 18.22807747 16.60531965\n",
      " 13.4620982  16.17754395 17.05169429 17.07029323 12.4391563  17.66080969\n",
      "  9.60281742 15.72186983 11.04423554 11.36971705 13.95032046 14.90351632\n",
      " 14.59198401 12.23921766 16.97264878 13.00642408 16.07524976 15.21969836\n",
      " 15.58702749 17.23303399 17.20978531 10.49091697 15.58702749 12.71349072\n",
      " 10.1700852  10.19798361 12.61584627 15.74976825  9.31453379 12.59259759\n",
      " 11.50920913 14.81982107 17.33067844 15.97295557 17.00519693 15.15925179\n",
      " 14.63848137 17.14933874 12.57864838 11.16047894  7.77547122 18.55820871\n",
      " 10.27237939  8.76586496 16.405381   14.95466341 10.4816175  13.08546959\n",
      " 16.78665935  9.05879832  7.78942043  8.17999824 16.17754395 10.9744895 ]\n"
     ]
    }
   ],
   "source": [
    "print(\"Prediction for test set: {}\".format(y_pred_slr))"
   ]
  },
  {
   "cell_type": "code",
   "execution_count": 24,
   "id": "808bfa9a",
   "metadata": {
    "execution": {
     "iopub.execute_input": "2024-08-14T08:39:41.434012Z",
     "iopub.status.busy": "2024-08-14T08:39:41.432799Z",
     "iopub.status.idle": "2024-08-14T08:39:41.445529Z",
     "shell.execute_reply": "2024-08-14T08:39:41.444440Z"
    },
    "papermill": {
     "duration": 0.033419,
     "end_time": "2024-08-14T08:39:41.447806",
     "exception": false,
     "start_time": "2024-08-14T08:39:41.414387",
     "status": "completed"
    },
    "tags": []
   },
   "outputs": [
    {
     "data": {
      "text/html": [
       "<div>\n",
       "<style scoped>\n",
       "    .dataframe tbody tr th:only-of-type {\n",
       "        vertical-align: middle;\n",
       "    }\n",
       "\n",
       "    .dataframe tbody tr th {\n",
       "        vertical-align: top;\n",
       "    }\n",
       "\n",
       "    .dataframe thead th {\n",
       "        text-align: right;\n",
       "    }\n",
       "</style>\n",
       "<table border=\"1\" class=\"dataframe\">\n",
       "  <thead>\n",
       "    <tr style=\"text-align: right;\">\n",
       "      <th></th>\n",
       "      <th>Actual Value</th>\n",
       "      <th>Predicted Value</th>\n",
       "    </tr>\n",
       "  </thead>\n",
       "  <tbody>\n",
       "    <tr>\n",
       "      <th>126</th>\n",
       "      <td>6.6</td>\n",
       "      <td>7.352345</td>\n",
       "    </tr>\n",
       "    <tr>\n",
       "      <th>104</th>\n",
       "      <td>20.7</td>\n",
       "      <td>18.065337</td>\n",
       "    </tr>\n",
       "    <tr>\n",
       "      <th>99</th>\n",
       "      <td>17.2</td>\n",
       "      <td>13.276109</td>\n",
       "    </tr>\n",
       "    <tr>\n",
       "      <th>92</th>\n",
       "      <td>19.4</td>\n",
       "      <td>17.112141</td>\n",
       "    </tr>\n",
       "    <tr>\n",
       "      <th>111</th>\n",
       "      <td>21.8</td>\n",
       "      <td>18.228077</td>\n",
       "    </tr>\n",
       "    <tr>\n",
       "      <th>167</th>\n",
       "      <td>12.2</td>\n",
       "      <td>16.605320</td>\n",
       "    </tr>\n",
       "    <tr>\n",
       "      <th>116</th>\n",
       "      <td>12.2</td>\n",
       "      <td>13.462098</td>\n",
       "    </tr>\n",
       "    <tr>\n",
       "      <th>96</th>\n",
       "      <td>11.7</td>\n",
       "      <td>16.177544</td>\n",
       "    </tr>\n",
       "    <tr>\n",
       "      <th>52</th>\n",
       "      <td>22.6</td>\n",
       "      <td>17.051694</td>\n",
       "    </tr>\n",
       "    <tr>\n",
       "      <th>69</th>\n",
       "      <td>22.3</td>\n",
       "      <td>17.070293</td>\n",
       "    </tr>\n",
       "  </tbody>\n",
       "</table>\n",
       "</div>"
      ],
      "text/plain": [
       "     Actual Value  Predicted Value\n",
       "126           6.6         7.352345\n",
       "104          20.7        18.065337\n",
       "99           17.2        13.276109\n",
       "92           19.4        17.112141\n",
       "111          21.8        18.228077\n",
       "167          12.2        16.605320\n",
       "116          12.2        13.462098\n",
       "96           11.7        16.177544\n",
       "52           22.6        17.051694\n",
       "69           22.3        17.070293"
      ]
     },
     "execution_count": 24,
     "metadata": {},
     "output_type": "execute_result"
    }
   ],
   "source": [
    "#Actual value 🆚  the predicted value\n",
    "slr_diff = pd.DataFrame({'Actual Value':y_test , 'Predicted Value':y_pred_slr})\n",
    "slr_diff.head(10)"
   ]
  },
  {
   "cell_type": "code",
   "execution_count": 25,
   "id": "ce7f63d7",
   "metadata": {
    "execution": {
     "iopub.execute_input": "2024-08-14T08:39:41.483550Z",
     "iopub.status.busy": "2024-08-14T08:39:41.483169Z",
     "iopub.status.idle": "2024-08-14T08:39:41.493033Z",
     "shell.execute_reply": "2024-08-14T08:39:41.491878Z"
    },
    "papermill": {
     "duration": 0.030579,
     "end_time": "2024-08-14T08:39:41.495436",
     "exception": false,
     "start_time": "2024-08-14T08:39:41.464857",
     "status": "completed"
    },
    "tags": []
   },
   "outputs": [
    {
     "name": "stderr",
     "output_type": "stream",
     "text": [
      "/opt/conda/lib/python3.10/site-packages/sklearn/base.py:439: UserWarning: X does not have valid feature names, but LinearRegression was fitted with feature names\n",
      "  warnings.warn(\n"
     ]
    },
    {
     "data": {
      "text/plain": [
       "array([9.59351795])"
      ]
     },
     "execution_count": 25,
     "metadata": {},
     "output_type": "execute_result"
    }
   ],
   "source": [
    "#Predict for any value\n",
    "slr.predict([[56]])"
   ]
  },
  {
   "cell_type": "markdown",
   "id": "2b71ebd5",
   "metadata": {
    "papermill": {
     "duration": 0.017043,
     "end_time": "2024-08-14T08:39:41.530283",
     "exception": false,
     "start_time": "2024-08-14T08:39:41.513240",
     "status": "completed"
    },
    "tags": []
   },
   "source": [
    "**R-squared value for the model**"
   ]
  },
  {
   "cell_type": "code",
   "execution_count": 26,
   "id": "f8b28488",
   "metadata": {
    "execution": {
     "iopub.execute_input": "2024-08-14T08:39:41.567135Z",
     "iopub.status.busy": "2024-08-14T08:39:41.566732Z",
     "iopub.status.idle": "2024-08-14T08:39:41.575764Z",
     "shell.execute_reply": "2024-08-14T08:39:41.574490Z"
    },
    "papermill": {
     "duration": 0.030284,
     "end_time": "2024-08-14T08:39:41.578098",
     "exception": false,
     "start_time": "2024-08-14T08:39:41.547814",
     "status": "completed"
    },
    "tags": []
   },
   "outputs": [
    {
     "name": "stdout",
     "output_type": "stream",
     "text": [
      "R squared value of the model: 61.02\n"
     ]
    }
   ],
   "source": [
    "from sklearn.metrics import accuracy_score\n",
    "print('R squared value of the model: {:.2f}'.format(slr.score(x,y)*100))"
   ]
  },
  {
   "cell_type": "markdown",
   "id": "b3c223ef",
   "metadata": {
    "papermill": {
     "duration": 0.017173,
     "end_time": "2024-08-14T08:39:41.612449",
     "exception": false,
     "start_time": "2024-08-14T08:39:41.595276",
     "status": "completed"
    },
    "tags": []
   },
   "source": [
    "1. Mean Absolute Error (MAE)\n",
    "2. Mean Square Error (MSE)\n",
    "3. Root Mean Square Error (RMSE)"
   ]
  },
  {
   "cell_type": "code",
   "execution_count": 27,
   "id": "51163302",
   "metadata": {
    "execution": {
     "iopub.execute_input": "2024-08-14T08:39:41.649298Z",
     "iopub.status.busy": "2024-08-14T08:39:41.648411Z",
     "iopub.status.idle": "2024-08-14T08:39:41.656741Z",
     "shell.execute_reply": "2024-08-14T08:39:41.655546Z"
    },
    "papermill": {
     "duration": 0.029683,
     "end_time": "2024-08-14T08:39:41.659466",
     "exception": false,
     "start_time": "2024-08-14T08:39:41.629783",
     "status": "completed"
    },
    "tags": []
   },
   "outputs": [
    {
     "name": "stdout",
     "output_type": "stream",
     "text": [
      "Mean Absolute Error: 2.161984932672072\n",
      "Mean Square Error: 7.975798532854851\n",
      "Root Mean Square Error: 2.8241456288327007\n"
     ]
    }
   ],
   "source": [
    "# 0 means the model is perfect. Therefore the value should be as close to 0 as possible\n",
    "meanAbErr = metrics.mean_absolute_error(y_test, y_pred_slr)\n",
    "meanSqErr = metrics.mean_squared_error(y_test, y_pred_slr)\n",
    "rootMeanSqErr = np.sqrt(metrics.mean_squared_error(y_test, y_pred_slr))\n",
    "\n",
    "print('Mean Absolute Error:', meanAbErr)\n",
    "print('Mean Square Error:', meanSqErr)\n",
    "print('Root Mean Square Error:', rootMeanSqErr)"
   ]
  },
  {
   "cell_type": "markdown",
   "id": "0d78f618",
   "metadata": {
    "papermill": {
     "duration": 0.017287,
     "end_time": "2024-08-14T08:39:41.694531",
     "exception": false,
     "start_time": "2024-08-14T08:39:41.677244",
     "status": "completed"
    },
    "tags": []
   },
   "source": [
    "**2-Multiple Linear Regression** \n",
    "* models the relationship between one dependent variable and multiple independent variables.\n",
    "\n",
    "**Key Points:**\n",
    " *Assumptions:*\n",
    "  * Linear relationship between target and predictors.\n",
    "  * Normally distributed residuals.\n",
    "  * Little to no multicollinearity.\n",
    "  \n",
    "**Formula:**\n",
    "\n",
    "> 𝑌=𝛽0+𝛽1𝑋1+⋯+𝛽𝑛𝑋𝑛+𝑒\n",
    "\n",
    " * Y: Dependent variable\n",
    " * β0: Intercept\n",
    " * β1, ..., βn: Coefficients for independent variables\n",
    " * X1, ..., Xn: Independent variables\n",
    " * e: Error term\n",
    "**Example:**\n",
    "> Sales=𝛽0+(𝛽1×TV)+(𝛽2×Radio)+(𝛽3×Newspaper)\n",
    "\n",
    "This model helps understand how multiple factors influence an outcome."
   ]
  },
  {
   "cell_type": "code",
   "execution_count": 28,
   "id": "bf06e1e7",
   "metadata": {
    "execution": {
     "iopub.execute_input": "2024-08-14T08:39:41.731084Z",
     "iopub.status.busy": "2024-08-14T08:39:41.730693Z",
     "iopub.status.idle": "2024-08-14T08:39:41.737257Z",
     "shell.execute_reply": "2024-08-14T08:39:41.735848Z"
    },
    "papermill": {
     "duration": 0.027705,
     "end_time": "2024-08-14T08:39:41.739673",
     "exception": false,
     "start_time": "2024-08-14T08:39:41.711968",
     "status": "completed"
    },
    "tags": []
   },
   "outputs": [],
   "source": [
    "#Setting the value for X and Y\n",
    "x = df[['TV', 'Radio', 'Newspaper']]\n",
    "y = df['Sales']"
   ]
  },
  {
   "cell_type": "code",
   "execution_count": 29,
   "id": "c42b2c2d",
   "metadata": {
    "execution": {
     "iopub.execute_input": "2024-08-14T08:39:41.785149Z",
     "iopub.status.busy": "2024-08-14T08:39:41.784154Z",
     "iopub.status.idle": "2024-08-14T08:39:41.792134Z",
     "shell.execute_reply": "2024-08-14T08:39:41.790702Z"
    },
    "papermill": {
     "duration": 0.036331,
     "end_time": "2024-08-14T08:39:41.795029",
     "exception": false,
     "start_time": "2024-08-14T08:39:41.758698",
     "status": "completed"
    },
    "tags": []
   },
   "outputs": [],
   "source": [
    "x_train, x_test, y_train, y_test= train_test_split(x, y, test_size= 0.3, random_state=100)  "
   ]
  },
  {
   "cell_type": "code",
   "execution_count": 30,
   "id": "a39712c0",
   "metadata": {
    "execution": {
     "iopub.execute_input": "2024-08-14T08:39:41.838357Z",
     "iopub.status.busy": "2024-08-14T08:39:41.837936Z",
     "iopub.status.idle": "2024-08-14T08:39:41.853328Z",
     "shell.execute_reply": "2024-08-14T08:39:41.852272Z"
    },
    "papermill": {
     "duration": 0.038049,
     "end_time": "2024-08-14T08:39:41.855717",
     "exception": false,
     "start_time": "2024-08-14T08:39:41.817668",
     "status": "completed"
    },
    "tags": []
   },
   "outputs": [
    {
     "data": {
      "text/html": [
       "<style>#sk-container-id-2 {color: black;background-color: white;}#sk-container-id-2 pre{padding: 0;}#sk-container-id-2 div.sk-toggleable {background-color: white;}#sk-container-id-2 label.sk-toggleable__label {cursor: pointer;display: block;width: 100%;margin-bottom: 0;padding: 0.3em;box-sizing: border-box;text-align: center;}#sk-container-id-2 label.sk-toggleable__label-arrow:before {content: \"▸\";float: left;margin-right: 0.25em;color: #696969;}#sk-container-id-2 label.sk-toggleable__label-arrow:hover:before {color: black;}#sk-container-id-2 div.sk-estimator:hover label.sk-toggleable__label-arrow:before {color: black;}#sk-container-id-2 div.sk-toggleable__content {max-height: 0;max-width: 0;overflow: hidden;text-align: left;background-color: #f0f8ff;}#sk-container-id-2 div.sk-toggleable__content pre {margin: 0.2em;color: black;border-radius: 0.25em;background-color: #f0f8ff;}#sk-container-id-2 input.sk-toggleable__control:checked~div.sk-toggleable__content {max-height: 200px;max-width: 100%;overflow: auto;}#sk-container-id-2 input.sk-toggleable__control:checked~label.sk-toggleable__label-arrow:before {content: \"▾\";}#sk-container-id-2 div.sk-estimator input.sk-toggleable__control:checked~label.sk-toggleable__label {background-color: #d4ebff;}#sk-container-id-2 div.sk-label input.sk-toggleable__control:checked~label.sk-toggleable__label {background-color: #d4ebff;}#sk-container-id-2 input.sk-hidden--visually {border: 0;clip: rect(1px 1px 1px 1px);clip: rect(1px, 1px, 1px, 1px);height: 1px;margin: -1px;overflow: hidden;padding: 0;position: absolute;width: 1px;}#sk-container-id-2 div.sk-estimator {font-family: monospace;background-color: #f0f8ff;border: 1px dotted black;border-radius: 0.25em;box-sizing: border-box;margin-bottom: 0.5em;}#sk-container-id-2 div.sk-estimator:hover {background-color: #d4ebff;}#sk-container-id-2 div.sk-parallel-item::after {content: \"\";width: 100%;border-bottom: 1px solid gray;flex-grow: 1;}#sk-container-id-2 div.sk-label:hover label.sk-toggleable__label {background-color: #d4ebff;}#sk-container-id-2 div.sk-serial::before {content: \"\";position: absolute;border-left: 1px solid gray;box-sizing: border-box;top: 0;bottom: 0;left: 50%;z-index: 0;}#sk-container-id-2 div.sk-serial {display: flex;flex-direction: column;align-items: center;background-color: white;padding-right: 0.2em;padding-left: 0.2em;position: relative;}#sk-container-id-2 div.sk-item {position: relative;z-index: 1;}#sk-container-id-2 div.sk-parallel {display: flex;align-items: stretch;justify-content: center;background-color: white;position: relative;}#sk-container-id-2 div.sk-item::before, #sk-container-id-2 div.sk-parallel-item::before {content: \"\";position: absolute;border-left: 1px solid gray;box-sizing: border-box;top: 0;bottom: 0;left: 50%;z-index: -1;}#sk-container-id-2 div.sk-parallel-item {display: flex;flex-direction: column;z-index: 1;position: relative;background-color: white;}#sk-container-id-2 div.sk-parallel-item:first-child::after {align-self: flex-end;width: 50%;}#sk-container-id-2 div.sk-parallel-item:last-child::after {align-self: flex-start;width: 50%;}#sk-container-id-2 div.sk-parallel-item:only-child::after {width: 0;}#sk-container-id-2 div.sk-dashed-wrapped {border: 1px dashed gray;margin: 0 0.4em 0.5em 0.4em;box-sizing: border-box;padding-bottom: 0.4em;background-color: white;}#sk-container-id-2 div.sk-label label {font-family: monospace;font-weight: bold;display: inline-block;line-height: 1.2em;}#sk-container-id-2 div.sk-label-container {text-align: center;}#sk-container-id-2 div.sk-container {/* jupyter's `normalize.less` sets `[hidden] { display: none; }` but bootstrap.min.css set `[hidden] { display: none !important; }` so we also need the `!important` here to be able to override the default hidden behavior on the sphinx rendered scikit-learn.org. See: https://github.com/scikit-learn/scikit-learn/issues/21755 */display: inline-block !important;position: relative;}#sk-container-id-2 div.sk-text-repr-fallback {display: none;}</style><div id=\"sk-container-id-2\" class=\"sk-top-container\"><div class=\"sk-text-repr-fallback\"><pre>LinearRegression()</pre><b>In a Jupyter environment, please rerun this cell to show the HTML representation or trust the notebook. <br />On GitHub, the HTML representation is unable to render, please try loading this page with nbviewer.org.</b></div><div class=\"sk-container\" hidden><div class=\"sk-item\"><div class=\"sk-estimator sk-toggleable\"><input class=\"sk-toggleable__control sk-hidden--visually\" id=\"sk-estimator-id-2\" type=\"checkbox\" checked><label for=\"sk-estimator-id-2\" class=\"sk-toggleable__label sk-toggleable__label-arrow\">LinearRegression</label><div class=\"sk-toggleable__content\"><pre>LinearRegression()</pre></div></div></div></div></div>"
      ],
      "text/plain": [
       "LinearRegression()"
      ]
     },
     "execution_count": 30,
     "metadata": {},
     "output_type": "execute_result"
    }
   ],
   "source": [
    "mlr= LinearRegression()  \n",
    "mlr.fit(x_train, y_train) "
   ]
  },
  {
   "cell_type": "code",
   "execution_count": 31,
   "id": "592558a1",
   "metadata": {
    "execution": {
     "iopub.execute_input": "2024-08-14T08:39:41.901376Z",
     "iopub.status.busy": "2024-08-14T08:39:41.899942Z",
     "iopub.status.idle": "2024-08-14T08:39:41.910332Z",
     "shell.execute_reply": "2024-08-14T08:39:41.909047Z"
    },
    "papermill": {
     "duration": 0.035894,
     "end_time": "2024-08-14T08:39:41.913143",
     "exception": false,
     "start_time": "2024-08-14T08:39:41.877249",
     "status": "completed"
    },
    "tags": []
   },
   "outputs": [
    {
     "name": "stdout",
     "output_type": "stream",
     "text": [
      "2.652789668879498\n"
     ]
    },
    {
     "data": {
      "text/plain": [
       "[('TV', 0.04542559602399794),\n",
       " ('Radio', 0.18975772766893614),\n",
       " ('Newspaper', 0.004603078953112072)]"
      ]
     },
     "execution_count": 31,
     "metadata": {},
     "output_type": "execute_result"
    }
   ],
   "source": [
    "#Printing the model coefficients\n",
    "print(mlr.intercept_)\n",
    "# pair the feature names with the coefficients\n",
    "list(zip(x, mlr.coef_))"
   ]
  },
  {
   "cell_type": "code",
   "execution_count": 32,
   "id": "4a635674",
   "metadata": {
    "execution": {
     "iopub.execute_input": "2024-08-14T08:39:41.957916Z",
     "iopub.status.busy": "2024-08-14T08:39:41.957520Z",
     "iopub.status.idle": "2024-08-14T08:39:41.965670Z",
     "shell.execute_reply": "2024-08-14T08:39:41.964510Z"
    },
    "papermill": {
     "duration": 0.033156,
     "end_time": "2024-08-14T08:39:41.968032",
     "exception": false,
     "start_time": "2024-08-14T08:39:41.934876",
     "status": "completed"
    },
    "tags": []
   },
   "outputs": [],
   "source": [
    "#Predicting the Test and Train set result \n",
    "y_pred_mlr= mlr.predict(x_test)  \n",
    "x_pred_mlr= mlr.predict(x_train) "
   ]
  },
  {
   "cell_type": "code",
   "execution_count": 33,
   "id": "a6d47394",
   "metadata": {
    "execution": {
     "iopub.execute_input": "2024-08-14T08:39:42.006007Z",
     "iopub.status.busy": "2024-08-14T08:39:42.005604Z",
     "iopub.status.idle": "2024-08-14T08:39:42.012265Z",
     "shell.execute_reply": "2024-08-14T08:39:42.011171Z"
    },
    "papermill": {
     "duration": 0.028569,
     "end_time": "2024-08-14T08:39:42.014927",
     "exception": false,
     "start_time": "2024-08-14T08:39:41.986358",
     "status": "completed"
    },
    "tags": []
   },
   "outputs": [
    {
     "name": "stdout",
     "output_type": "stream",
     "text": [
      "Prediction for test set: [10.62160072 20.00625302 16.91850882 19.17040746 20.94974131 13.12284284\n",
      " 11.80740696 12.32019766 20.57806782 20.95662688 10.79096475 19.54868702\n",
      "  6.42403866 15.23133391  8.97226257  7.89897862 16.23599497 12.02636477\n",
      " 17.09702178 11.26080277 16.97826292  9.75655721 20.82389762 17.20916742\n",
      " 15.13816239 21.97290698 19.20181841 10.07501899 19.39017185 14.8673761\n",
      " 14.36798893  7.55604543  9.96742165 14.76342565  7.20995576 13.60003295\n",
      "  7.49088656 11.70865932 13.46091883 15.2229793  17.18088277 13.56738329\n",
      " 14.30942267 13.72909849 11.88559349  8.77039705 12.1244102  19.20252289\n",
      "  9.08376601  5.15367352 16.22852749 18.14111213 12.94835466 16.86274503\n",
      " 17.86462435 12.33930625  4.3575739  11.25904494 16.11560622 13.56602169]\n"
     ]
    }
   ],
   "source": [
    "print(\"Prediction for test set: {}\".format(y_pred_mlr))"
   ]
  },
  {
   "cell_type": "code",
   "execution_count": 34,
   "id": "a5e6cf19",
   "metadata": {
    "execution": {
     "iopub.execute_input": "2024-08-14T08:39:42.052926Z",
     "iopub.status.busy": "2024-08-14T08:39:42.051806Z",
     "iopub.status.idle": "2024-08-14T08:39:42.064942Z",
     "shell.execute_reply": "2024-08-14T08:39:42.063813Z"
    },
    "papermill": {
     "duration": 0.034853,
     "end_time": "2024-08-14T08:39:42.067647",
     "exception": false,
     "start_time": "2024-08-14T08:39:42.032794",
     "status": "completed"
    },
    "tags": []
   },
   "outputs": [
    {
     "data": {
      "text/html": [
       "<div>\n",
       "<style scoped>\n",
       "    .dataframe tbody tr th:only-of-type {\n",
       "        vertical-align: middle;\n",
       "    }\n",
       "\n",
       "    .dataframe tbody tr th {\n",
       "        vertical-align: top;\n",
       "    }\n",
       "\n",
       "    .dataframe thead th {\n",
       "        text-align: right;\n",
       "    }\n",
       "</style>\n",
       "<table border=\"1\" class=\"dataframe\">\n",
       "  <thead>\n",
       "    <tr style=\"text-align: right;\">\n",
       "      <th></th>\n",
       "      <th>Actual value</th>\n",
       "      <th>Predicted value</th>\n",
       "    </tr>\n",
       "  </thead>\n",
       "  <tbody>\n",
       "    <tr>\n",
       "      <th>126</th>\n",
       "      <td>6.6</td>\n",
       "      <td>10.621601</td>\n",
       "    </tr>\n",
       "    <tr>\n",
       "      <th>104</th>\n",
       "      <td>20.7</td>\n",
       "      <td>20.006253</td>\n",
       "    </tr>\n",
       "    <tr>\n",
       "      <th>99</th>\n",
       "      <td>17.2</td>\n",
       "      <td>16.918509</td>\n",
       "    </tr>\n",
       "    <tr>\n",
       "      <th>92</th>\n",
       "      <td>19.4</td>\n",
       "      <td>19.170407</td>\n",
       "    </tr>\n",
       "    <tr>\n",
       "      <th>111</th>\n",
       "      <td>21.8</td>\n",
       "      <td>20.949741</td>\n",
       "    </tr>\n",
       "    <tr>\n",
       "      <th>167</th>\n",
       "      <td>12.2</td>\n",
       "      <td>13.122843</td>\n",
       "    </tr>\n",
       "    <tr>\n",
       "      <th>116</th>\n",
       "      <td>12.2</td>\n",
       "      <td>11.807407</td>\n",
       "    </tr>\n",
       "    <tr>\n",
       "      <th>96</th>\n",
       "      <td>11.7</td>\n",
       "      <td>12.320198</td>\n",
       "    </tr>\n",
       "    <tr>\n",
       "      <th>52</th>\n",
       "      <td>22.6</td>\n",
       "      <td>20.578068</td>\n",
       "    </tr>\n",
       "    <tr>\n",
       "      <th>69</th>\n",
       "      <td>22.3</td>\n",
       "      <td>20.956627</td>\n",
       "    </tr>\n",
       "  </tbody>\n",
       "</table>\n",
       "</div>"
      ],
      "text/plain": [
       "     Actual value  Predicted value\n",
       "126           6.6        10.621601\n",
       "104          20.7        20.006253\n",
       "99           17.2        16.918509\n",
       "92           19.4        19.170407\n",
       "111          21.8        20.949741\n",
       "167          12.2        13.122843\n",
       "116          12.2        11.807407\n",
       "96           11.7        12.320198\n",
       "52           22.6        20.578068\n",
       "69           22.3        20.956627"
      ]
     },
     "execution_count": 34,
     "metadata": {},
     "output_type": "execute_result"
    }
   ],
   "source": [
    "#Actual value 🆚  the predicted value\n",
    "mlr_diff = pd.DataFrame({'Actual value': y_test, 'Predicted value': y_pred_mlr})\n",
    "mlr_diff.head(10)"
   ]
  },
  {
   "cell_type": "code",
   "execution_count": 35,
   "id": "6194758d",
   "metadata": {
    "execution": {
     "iopub.execute_input": "2024-08-14T08:39:42.115266Z",
     "iopub.status.busy": "2024-08-14T08:39:42.113868Z",
     "iopub.status.idle": "2024-08-14T08:39:42.123119Z",
     "shell.execute_reply": "2024-08-14T08:39:42.121915Z"
    },
    "papermill": {
     "duration": 0.034519,
     "end_time": "2024-08-14T08:39:42.125539",
     "exception": false,
     "start_time": "2024-08-14T08:39:42.091020",
     "status": "completed"
    },
    "tags": []
   },
   "outputs": [
    {
     "name": "stderr",
     "output_type": "stream",
     "text": [
      "/opt/conda/lib/python3.10/site-packages/sklearn/base.py:439: UserWarning: X does not have valid feature names, but LinearRegression was fitted with feature names\n",
      "  warnings.warn(\n"
     ]
    },
    {
     "data": {
      "text/plain": [
       "array([15.94170436])"
      ]
     },
     "execution_count": 35,
     "metadata": {},
     "output_type": "execute_result"
    }
   ],
   "source": [
    "#Predict for any value\n",
    "mlr.predict([[56, 55, 67]])"
   ]
  },
  {
   "cell_type": "markdown",
   "id": "9e7db731",
   "metadata": {
    "papermill": {
     "duration": 0.019957,
     "end_time": "2024-08-14T08:39:42.164457",
     "exception": false,
     "start_time": "2024-08-14T08:39:42.144500",
     "status": "completed"
    },
    "tags": []
   },
   "source": [
    "**R-squared value for the model**"
   ]
  },
  {
   "cell_type": "code",
   "execution_count": 36,
   "id": "bc70c469",
   "metadata": {
    "execution": {
     "iopub.execute_input": "2024-08-14T08:39:42.203966Z",
     "iopub.status.busy": "2024-08-14T08:39:42.203589Z",
     "iopub.status.idle": "2024-08-14T08:39:42.211930Z",
     "shell.execute_reply": "2024-08-14T08:39:42.210825Z"
    },
    "papermill": {
     "duration": 0.030316,
     "end_time": "2024-08-14T08:39:42.214151",
     "exception": false,
     "start_time": "2024-08-14T08:39:42.183835",
     "status": "completed"
    },
    "tags": []
   },
   "outputs": [
    {
     "name": "stdout",
     "output_type": "stream",
     "text": [
      "R squared value of the model: 89.59\n"
     ]
    }
   ],
   "source": [
    "print('R squared value of the model: {:.2f}'.format(mlr.score(x,y)*100))"
   ]
  },
  {
   "cell_type": "markdown",
   "id": "6021266f",
   "metadata": {
    "papermill": {
     "duration": 0.017909,
     "end_time": "2024-08-14T08:39:42.250323",
     "exception": false,
     "start_time": "2024-08-14T08:39:42.232414",
     "status": "completed"
    },
    "tags": []
   },
   "source": [
    "1. Mean Absolute Error (MAE)\n",
    "2. Mean Square Error (MSE)\n",
    "3. Root Mean Square Error (RMSE)"
   ]
  },
  {
   "cell_type": "code",
   "execution_count": 37,
   "id": "b152ab04",
   "metadata": {
    "execution": {
     "iopub.execute_input": "2024-08-14T08:39:42.288821Z",
     "iopub.status.busy": "2024-08-14T08:39:42.288417Z",
     "iopub.status.idle": "2024-08-14T08:39:42.297855Z",
     "shell.execute_reply": "2024-08-14T08:39:42.296543Z"
    },
    "papermill": {
     "duration": 0.03181,
     "end_time": "2024-08-14T08:39:42.300300",
     "exception": false,
     "start_time": "2024-08-14T08:39:42.268490",
     "status": "completed"
    },
    "tags": []
   },
   "outputs": [
    {
     "name": "stdout",
     "output_type": "stream",
     "text": [
      "Mean Absolute Error: 1.0638483124072025\n",
      "Mean Square Error: 1.8506819941636963\n",
      "Root Mean Square Error: 1.3603977338130553\n"
     ]
    }
   ],
   "source": [
    "# 0 means the model is perfect. Therefore the value should be as close to 0 as possible\n",
    "meanAbErr = metrics.mean_absolute_error(y_test, y_pred_mlr)\n",
    "meanSqErr = metrics.mean_squared_error(y_test, y_pred_mlr)\n",
    "rootMeanSqErr = np.sqrt(metrics.mean_squared_error(y_test, y_pred_mlr))\n",
    "\n",
    "print('Mean Absolute Error:', meanAbErr)\n",
    "print('Mean Square Error:', meanSqErr)\n",
    "print('Root Mean Square Error:', rootMeanSqErr)"
   ]
  },
  {
   "cell_type": "code",
   "execution_count": 38,
   "id": "8ebe06c1",
   "metadata": {
    "execution": {
     "iopub.execute_input": "2024-08-14T08:39:42.339460Z",
     "iopub.status.busy": "2024-08-14T08:39:42.339097Z",
     "iopub.status.idle": "2024-08-14T08:39:42.345340Z",
     "shell.execute_reply": "2024-08-14T08:39:42.344157Z"
    },
    "papermill": {
     "duration": 0.028918,
     "end_time": "2024-08-14T08:39:42.347879",
     "exception": false,
     "start_time": "2024-08-14T08:39:42.318961",
     "status": "completed"
    },
    "tags": []
   },
   "outputs": [],
   "source": [
    "# Save the trained model to a .pkl file\n",
    "import pickle\n",
    "with open('linear_regression_model.pkl', 'wb') as file:\n",
    "    pickle.dump(mlr, file)"
   ]
  },
  {
   "cell_type": "code",
   "execution_count": 39,
   "id": "1c4808d1",
   "metadata": {
    "execution": {
     "iopub.execute_input": "2024-08-14T08:39:42.385969Z",
     "iopub.status.busy": "2024-08-14T08:39:42.385574Z",
     "iopub.status.idle": "2024-08-14T08:39:42.393026Z",
     "shell.execute_reply": "2024-08-14T08:39:42.392024Z"
    },
    "papermill": {
     "duration": 0.02922,
     "end_time": "2024-08-14T08:39:42.395347",
     "exception": false,
     "start_time": "2024-08-14T08:39:42.366127",
     "status": "completed"
    },
    "tags": []
   },
   "outputs": [],
   "source": [
    "# Load the model from the .pkl file\n",
    "with open('linear_regression_model.pkl', 'rb') as file:\n",
    "    loaded_model = pickle.load(file)\n",
    "\n",
    "# Use the loaded model to make predictions\n",
    "predictions = loaded_model.predict(x_test)\n"
   ]
  },
  {
   "cell_type": "code",
   "execution_count": null,
   "id": "889d151b",
   "metadata": {
    "papermill": {
     "duration": 0.020223,
     "end_time": "2024-08-14T08:39:42.434387",
     "exception": false,
     "start_time": "2024-08-14T08:39:42.414164",
     "status": "completed"
    },
    "tags": []
   },
   "outputs": [],
   "source": []
  }
 ],
 "metadata": {
  "kaggle": {
   "accelerator": "none",
   "dataSources": [
    {
     "datasetId": 1819823,
     "sourceId": 2968385,
     "sourceType": "datasetVersion"
    }
   ],
   "dockerImageVersionId": 30746,
   "isGpuEnabled": false,
   "isInternetEnabled": true,
   "language": "python",
   "sourceType": "notebook"
  },
  "kernelspec": {
   "display_name": "Python 3",
   "language": "python",
   "name": "python3"
  },
  "language_info": {
   "codemirror_mode": {
    "name": "ipython",
    "version": 3
   },
   "file_extension": ".py",
   "mimetype": "text/x-python",
   "name": "python",
   "nbconvert_exporter": "python",
   "pygments_lexer": "ipython3",
   "version": "3.10.13"
  },
  "papermill": {
   "default_parameters": {},
   "duration": 10.506761,
   "end_time": "2024-08-14T08:39:43.077492",
   "environment_variables": {},
   "exception": null,
   "input_path": "__notebook__.ipynb",
   "output_path": "__notebook__.ipynb",
   "parameters": {},
   "start_time": "2024-08-14T08:39:32.570731",
   "version": "2.5.0"
  }
 },
 "nbformat": 4,
 "nbformat_minor": 5
}
